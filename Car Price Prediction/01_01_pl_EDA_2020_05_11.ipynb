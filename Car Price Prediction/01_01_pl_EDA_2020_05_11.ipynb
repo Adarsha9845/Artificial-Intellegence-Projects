{
  "nbformat": 4,
  "nbformat_minor": 0,
  "metadata": {
    "colab": {
      "name": "01.01_pl_EDA_2020_05_11.ipynb",
      "provenance": [],
      "collapsed_sections": [],
      "toc_visible": true
    },
    "kernelspec": {
      "display_name": "Python 3",
      "language": "python",
      "name": "python3"
    },
    "language_info": {
      "codemirror_mode": {
        "name": "ipython",
        "version": 3
      },
      "file_extension": ".py",
      "mimetype": "text/x-python",
      "name": "python",
      "nbconvert_exporter": "python",
      "pygments_lexer": "ipython3",
      "version": "3.7.3"
    }
  },
  "cells": [
    {
      "cell_type": "markdown",
      "metadata": {
        "id": "xdo1kS4_UTVp"
      },
      "source": [
        "# Importing Essentials\n"
      ]
    },
    {
      "cell_type": "code",
      "metadata": {
        "id": "GcjqeLXre2uh",
        "colab": {
          "base_uri": "https://localhost:8080/",
          "height": 71
        },
        "outputId": "92b1b78c-355a-44cb-86ce-594f232e01c2"
      },
      "source": [
        "import numpy as np\n",
        "import pandas as pd\n",
        "import matplotlib.pyplot as plt\n",
        "import seaborn as sns\n",
        "from collections import Counter"
      ],
      "execution_count": null,
      "outputs": [
        {
          "output_type": "stream",
          "text": [
            "/usr/local/lib/python3.6/dist-packages/statsmodels/tools/_testing.py:19: FutureWarning: pandas.util.testing is deprecated. Use the functions in the public API at pandas.testing instead.\n",
            "  import pandas.util.testing as tm\n"
          ],
          "name": "stderr"
        }
      ]
    },
    {
      "cell_type": "code",
      "metadata": {
        "id": "F6u_LtU8e7Xb"
      },
      "source": [
        "from sklearn.impute import SimpleImputer\n",
        "from sklearn.preprocessing import LabelEncoder, StandardScaler"
      ],
      "execution_count": null,
      "outputs": []
    },
    {
      "cell_type": "code",
      "metadata": {
        "id": "r5ic3OwnLZ_P"
      },
      "source": [
        "import tensorflow as tf\n",
        "\n",
        "from sklearn.metrics import r2_score, mean_absolute_error, mean_squared_error\n",
        "from sklearn.model_selection import  train_test_split\n",
        "from sklearn.linear_model import LinearRegression\n",
        "from sklearn.tree import DecisionTreeRegressor"
      ],
      "execution_count": null,
      "outputs": []
    },
    {
      "cell_type": "markdown",
      "metadata": {
        "id": "Ii43GE_6Uafj"
      },
      "source": [
        "# unzipping the zip file"
      ]
    },
    {
      "cell_type": "code",
      "metadata": {
        "id": "vQ6E_2bAe-jx"
      },
      "source": [
        "#!unzip -q '/content/drive/My Drive/FuseAi training/Datasets/personal-cars-classifieds (1).zip'"
      ],
      "execution_count": null,
      "outputs": []
    },
    {
      "cell_type": "code",
      "metadata": {
        "id": "p7LP1fLApP-S",
        "colab": {
          "base_uri": "https://localhost:8080/",
          "height": 122
        },
        "outputId": "43c6474a-2e57-49c5-a9f4-13440a823669"
      },
      "source": [
        "from google.colab import drive\n",
        "drive.mount('/content/drive')"
      ],
      "execution_count": null,
      "outputs": [
        {
          "output_type": "stream",
          "text": [
            "Go to this URL in a browser: https://accounts.google.com/o/oauth2/auth?client_id=947318989803-6bn6qk8qdgf4n4g3pfee6491hc0brc4i.apps.googleusercontent.com&redirect_uri=urn%3aietf%3awg%3aoauth%3a2.0%3aoob&response_type=code&scope=email%20https%3a%2f%2fwww.googleapis.com%2fauth%2fdocs.test%20https%3a%2f%2fwww.googleapis.com%2fauth%2fdrive%20https%3a%2f%2fwww.googleapis.com%2fauth%2fdrive.photos.readonly%20https%3a%2f%2fwww.googleapis.com%2fauth%2fpeopleapi.readonly\n",
            "\n",
            "Enter your authorization code:\n",
            "··········\n",
            "Mounted at /content/drive\n"
          ],
          "name": "stdout"
        }
      ]
    },
    {
      "cell_type": "code",
      "metadata": {
        "id": "Mn3cqNPHfRBl"
      },
      "source": [
        "data_path = '/content/drive/My Drive/Data sets/all_anonymized_2015_11_2017_03.csv'"
      ],
      "execution_count": null,
      "outputs": []
    },
    {
      "cell_type": "markdown",
      "metadata": {
        "id": "PxbuWj34UgMy"
      },
      "source": [
        "# Reading the CSV file"
      ]
    },
    {
      "cell_type": "code",
      "metadata": {
        "id": "PI_2sV41gC4T",
        "colab": {
          "base_uri": "https://localhost:8080/",
          "height": 71
        },
        "outputId": "469bfe71-aea1-44b8-c3a4-b23da3e76ec5"
      },
      "source": [
        "datas = pd.read_csv(data_path)"
      ],
      "execution_count": null,
      "outputs": [
        {
          "output_type": "stream",
          "text": [
            "/usr/local/lib/python3.6/dist-packages/IPython/core/interactiveshell.py:2718: DtypeWarning: Columns (7,8,10,11,12) have mixed types.Specify dtype option on import or set low_memory=False.\n",
            "  interactivity=interactivity, compiler=compiler, result=result)\n"
          ],
          "name": "stderr"
        }
      ]
    },
    {
      "cell_type": "markdown",
      "metadata": {
        "id": "8RYxnfDMUknr"
      },
      "source": [
        "# Few information on data"
      ]
    },
    {
      "cell_type": "code",
      "metadata": {
        "id": "6N4bSNn1gbsg",
        "colab": {
          "base_uri": "https://localhost:8080/",
          "height": 309
        },
        "outputId": "92b2be62-9f41-4510-8f30-639b286f41ac"
      },
      "source": [
        "datas.head()"
      ],
      "execution_count": null,
      "outputs": [
        {
          "output_type": "execute_result",
          "data": {
            "text/html": [
              "<div>\n",
              "<style scoped>\n",
              "    .dataframe tbody tr th:only-of-type {\n",
              "        vertical-align: middle;\n",
              "    }\n",
              "\n",
              "    .dataframe tbody tr th {\n",
              "        vertical-align: top;\n",
              "    }\n",
              "\n",
              "    .dataframe thead th {\n",
              "        text-align: right;\n",
              "    }\n",
              "</style>\n",
              "<table border=\"1\" class=\"dataframe\">\n",
              "  <thead>\n",
              "    <tr style=\"text-align: right;\">\n",
              "      <th></th>\n",
              "      <th>maker</th>\n",
              "      <th>model</th>\n",
              "      <th>mileage</th>\n",
              "      <th>manufacture_year</th>\n",
              "      <th>engine_displacement</th>\n",
              "      <th>engine_power</th>\n",
              "      <th>body_type</th>\n",
              "      <th>color_slug</th>\n",
              "      <th>stk_year</th>\n",
              "      <th>transmission</th>\n",
              "      <th>door_count</th>\n",
              "      <th>seat_count</th>\n",
              "      <th>fuel_type</th>\n",
              "      <th>date_created</th>\n",
              "      <th>date_last_seen</th>\n",
              "      <th>price_eur</th>\n",
              "    </tr>\n",
              "  </thead>\n",
              "  <tbody>\n",
              "    <tr>\n",
              "      <th>0</th>\n",
              "      <td>ford</td>\n",
              "      <td>galaxy</td>\n",
              "      <td>151000.0</td>\n",
              "      <td>2011.0</td>\n",
              "      <td>2000.0</td>\n",
              "      <td>103.0</td>\n",
              "      <td>NaN</td>\n",
              "      <td>NaN</td>\n",
              "      <td>None</td>\n",
              "      <td>man</td>\n",
              "      <td>5</td>\n",
              "      <td>7</td>\n",
              "      <td>diesel</td>\n",
              "      <td>2015-11-14 18:10:06.838319+00</td>\n",
              "      <td>2016-01-27 20:40:15.46361+00</td>\n",
              "      <td>10584.75</td>\n",
              "    </tr>\n",
              "    <tr>\n",
              "      <th>1</th>\n",
              "      <td>skoda</td>\n",
              "      <td>octavia</td>\n",
              "      <td>143476.0</td>\n",
              "      <td>2012.0</td>\n",
              "      <td>2000.0</td>\n",
              "      <td>81.0</td>\n",
              "      <td>NaN</td>\n",
              "      <td>NaN</td>\n",
              "      <td>None</td>\n",
              "      <td>man</td>\n",
              "      <td>5</td>\n",
              "      <td>5</td>\n",
              "      <td>diesel</td>\n",
              "      <td>2015-11-14 18:10:06.853411+00</td>\n",
              "      <td>2016-01-27 20:40:15.46361+00</td>\n",
              "      <td>8882.31</td>\n",
              "    </tr>\n",
              "    <tr>\n",
              "      <th>2</th>\n",
              "      <td>bmw</td>\n",
              "      <td>NaN</td>\n",
              "      <td>97676.0</td>\n",
              "      <td>2010.0</td>\n",
              "      <td>1995.0</td>\n",
              "      <td>85.0</td>\n",
              "      <td>NaN</td>\n",
              "      <td>NaN</td>\n",
              "      <td>None</td>\n",
              "      <td>man</td>\n",
              "      <td>5</td>\n",
              "      <td>5</td>\n",
              "      <td>diesel</td>\n",
              "      <td>2015-11-14 18:10:06.861792+00</td>\n",
              "      <td>2016-01-27 20:40:15.46361+00</td>\n",
              "      <td>12065.06</td>\n",
              "    </tr>\n",
              "    <tr>\n",
              "      <th>3</th>\n",
              "      <td>skoda</td>\n",
              "      <td>fabia</td>\n",
              "      <td>111970.0</td>\n",
              "      <td>2004.0</td>\n",
              "      <td>1200.0</td>\n",
              "      <td>47.0</td>\n",
              "      <td>NaN</td>\n",
              "      <td>NaN</td>\n",
              "      <td>None</td>\n",
              "      <td>man</td>\n",
              "      <td>5</td>\n",
              "      <td>5</td>\n",
              "      <td>gasoline</td>\n",
              "      <td>2015-11-14 18:10:06.872313+00</td>\n",
              "      <td>2016-01-27 20:40:15.46361+00</td>\n",
              "      <td>2960.77</td>\n",
              "    </tr>\n",
              "    <tr>\n",
              "      <th>4</th>\n",
              "      <td>skoda</td>\n",
              "      <td>fabia</td>\n",
              "      <td>128886.0</td>\n",
              "      <td>2004.0</td>\n",
              "      <td>1200.0</td>\n",
              "      <td>47.0</td>\n",
              "      <td>NaN</td>\n",
              "      <td>NaN</td>\n",
              "      <td>None</td>\n",
              "      <td>man</td>\n",
              "      <td>5</td>\n",
              "      <td>5</td>\n",
              "      <td>gasoline</td>\n",
              "      <td>2015-11-14 18:10:06.880335+00</td>\n",
              "      <td>2016-01-27 20:40:15.46361+00</td>\n",
              "      <td>2738.71</td>\n",
              "    </tr>\n",
              "  </tbody>\n",
              "</table>\n",
              "</div>"
            ],
            "text/plain": [
              "   maker    model  ...                date_last_seen  price_eur\n",
              "0   ford   galaxy  ...  2016-01-27 20:40:15.46361+00   10584.75\n",
              "1  skoda  octavia  ...  2016-01-27 20:40:15.46361+00    8882.31\n",
              "2    bmw      NaN  ...  2016-01-27 20:40:15.46361+00   12065.06\n",
              "3  skoda    fabia  ...  2016-01-27 20:40:15.46361+00    2960.77\n",
              "4  skoda    fabia  ...  2016-01-27 20:40:15.46361+00    2738.71\n",
              "\n",
              "[5 rows x 16 columns]"
            ]
          },
          "metadata": {
            "tags": []
          },
          "execution_count": 9
        }
      ]
    },
    {
      "cell_type": "code",
      "metadata": {
        "id": "la9Xr8rBg-54",
        "colab": {
          "base_uri": "https://localhost:8080/",
          "height": 306
        },
        "outputId": "6490e2eb-ed0d-4b9f-b644-d837067416f9"
      },
      "source": [
        " datas.isna().sum()"
      ],
      "execution_count": null,
      "outputs": [
        {
          "output_type": "execute_result",
          "data": {
            "text/plain": [
              "maker                   518915\n",
              "model                  1133361\n",
              "mileage                 362584\n",
              "manufacture_year        370578\n",
              "engine_displacement     743414\n",
              "engine_power            554877\n",
              "body_type              1122914\n",
              "color_slug             3343411\n",
              "stk_year               1708156\n",
              "transmission            741630\n",
              "door_count              614373\n",
              "seat_count              749489\n",
              "fuel_type              1847606\n",
              "date_created                 0\n",
              "date_last_seen               0\n",
              "price_eur                    0\n",
              "dtype: int64"
            ]
          },
          "metadata": {
            "tags": []
          },
          "execution_count": 15
        }
      ]
    },
    {
      "cell_type": "code",
      "metadata": {
        "id": "YF8BzVwiiM72",
        "colab": {
          "base_uri": "https://localhost:8080/",
          "height": 34
        },
        "outputId": "5cb9ccc2-4f25-4a83-8247-57e87af4bc72"
      },
      "source": [
        "datas.shape"
      ],
      "execution_count": null,
      "outputs": [
        {
          "output_type": "execute_result",
          "data": {
            "text/plain": [
              "(3552912, 16)"
            ]
          },
          "metadata": {
            "tags": []
          },
          "execution_count": 16
        }
      ]
    },
    {
      "cell_type": "code",
      "metadata": {
        "id": "IiwUeonJ-Tb_",
        "colab": {
          "base_uri": "https://localhost:8080/",
          "height": 102
        },
        "outputId": "7d08ecae-723b-486d-f5fd-ec4b5cc9324b"
      },
      "source": [
        "datas.columns"
      ],
      "execution_count": null,
      "outputs": [
        {
          "output_type": "execute_result",
          "data": {
            "text/plain": [
              "Index(['maker', 'model', 'mileage', 'manufacture_year', 'engine_displacement',\n",
              "       'engine_power', 'body_type', 'color_slug', 'stk_year', 'transmission',\n",
              "       'door_count', 'seat_count', 'fuel_type', 'date_created',\n",
              "       'date_last_seen', 'price_eur'],\n",
              "      dtype='object')"
            ]
          },
          "metadata": {
            "tags": []
          },
          "execution_count": 17
        }
      ]
    },
    {
      "cell_type": "code",
      "metadata": {
        "id": "3jgtGjX9iR-9",
        "colab": {
          "base_uri": "https://localhost:8080/",
          "height": 408
        },
        "outputId": "d3a3aa83-466a-45bd-d85d-2bf1d0a765e6"
      },
      "source": [
        "datas.info()"
      ],
      "execution_count": null,
      "outputs": [
        {
          "output_type": "stream",
          "text": [
            "<class 'pandas.core.frame.DataFrame'>\n",
            "RangeIndex: 3552912 entries, 0 to 3552911\n",
            "Data columns (total 16 columns):\n",
            " #   Column               Dtype  \n",
            "---  ------               -----  \n",
            " 0   maker                object \n",
            " 1   model                object \n",
            " 2   mileage              float64\n",
            " 3   manufacture_year     float64\n",
            " 4   engine_displacement  float64\n",
            " 5   engine_power         float64\n",
            " 6   body_type            object \n",
            " 7   color_slug           object \n",
            " 8   stk_year             object \n",
            " 9   transmission         object \n",
            " 10  door_count           object \n",
            " 11  seat_count           object \n",
            " 12  fuel_type            object \n",
            " 13  date_created         object \n",
            " 14  date_last_seen       object \n",
            " 15  price_eur            float64\n",
            "dtypes: float64(5), object(11)\n",
            "memory usage: 433.7+ MB\n"
          ],
          "name": "stdout"
        }
      ]
    },
    {
      "cell_type": "markdown",
      "metadata": {
        "id": "PAG4PGh8UtmG"
      },
      "source": [
        "# removing the feture with more than $20 $% null value"
      ]
    },
    {
      "cell_type": "code",
      "metadata": {
        "id": "wAVCDYon-zbo"
      },
      "source": [
        "datas = datas.loc[:, datas.isnull().mean()<0.3]"
      ],
      "execution_count": null,
      "outputs": []
    },
    {
      "cell_type": "code",
      "metadata": {
        "id": "Cz3YKU5V_FzO",
        "colab": {
          "base_uri": "https://localhost:8080/",
          "height": 85
        },
        "outputId": "95dc178e-4530-4dcc-fb07-7d5ce1bb94ef"
      },
      "source": [
        "datas.columns"
      ],
      "execution_count": null,
      "outputs": [
        {
          "output_type": "execute_result",
          "data": {
            "text/plain": [
              "Index(['maker', 'mileage', 'manufacture_year', 'engine_displacement',\n",
              "       'engine_power', 'transmission', 'door_count', 'seat_count',\n",
              "       'date_created', 'date_last_seen', 'price_eur'],\n",
              "      dtype='object')"
            ]
          },
          "metadata": {
            "tags": []
          },
          "execution_count": 20
        }
      ]
    },
    {
      "cell_type": "markdown",
      "metadata": {
        "id": "BpDPQU8QU6ub"
      },
      "source": [
        "# Dropping $date\\_created$ and $date\\_last\\_seen$ from data because they hold no significant value to the dataset"
      ]
    },
    {
      "cell_type": "code",
      "metadata": {
        "id": "_re22VrmqQe-"
      },
      "source": [
        "datas.drop(['date_created', 'date_last_seen', ], axis=1, inplace=True)"
      ],
      "execution_count": null,
      "outputs": []
    },
    {
      "cell_type": "markdown",
      "metadata": {
        "id": "arBFt0ikVTuY"
      },
      "source": [
        "# Replacing all the $none$ values with $nan$ values"
      ]
    },
    {
      "cell_type": "code",
      "metadata": {
        "id": "ciaoWKusmeh4"
      },
      "source": [
        "datas['door_count'] = datas['door_count'].replace('None', np.nan)\n",
        "datas['seat_count'] = datas['seat_count'].replace('None', np.nan)"
      ],
      "execution_count": null,
      "outputs": []
    },
    {
      "cell_type": "markdown",
      "metadata": {
        "id": "hhGESINBVcqa"
      },
      "source": [
        "# Typecasting object into float"
      ]
    },
    {
      "cell_type": "code",
      "metadata": {
        "id": "GbLDodsvA2OV"
      },
      "source": [
        "datas['door_count'] = datas['door_count'].astype(float, )\n",
        "datas['seat_count'] = datas['seat_count'].astype(float, )"
      ],
      "execution_count": null,
      "outputs": []
    },
    {
      "cell_type": "markdown",
      "metadata": {
        "id": "yV3FPHZJVh24"
      },
      "source": [
        "# Processing Numerical data\n",
        "\n"
      ]
    },
    {
      "cell_type": "code",
      "metadata": {
        "id": "7tpotgvhdFaz",
        "colab": {
          "base_uri": "https://localhost:8080/",
          "height": 1000
        },
        "outputId": "1333e618-c44e-4a71-f9e3-6dfe3ad270d6"
      },
      "source": [
        "\n",
        "\n",
        "def random_number(mean, std):\n",
        "  rand_num = np.random.randint(low = mean - std, high = mean + std, size = 1)\n",
        "  return rand_num\n",
        "\n",
        "def process_numerical_data(heading):\n",
        "    sns.distplot(datas[heading])\n",
        "    plt.show()\n",
        "    mean = datas[heading].mean()\n",
        "    std = datas[heading].std()\n",
        "    datas[heading] = datas[heading].fillna(int(random_number(mean, std)))\n",
        "\n",
        "numerical_datas = ['mileage', 'manufacture_year', 'engine_displacement', 'engine_power','door_count', 'seat_count']\n",
        "\n",
        "for data in numerical_datas:\n",
        "  process_numerical_data(data)"
      ],
      "execution_count": null,
      "outputs": [
        {
          "output_type": "display_data",
          "data": {
            "image/png": "[encoded data removed]",
            "text/plain": [
              "<Figure size 432x288 with 1 Axes>"
            ]
          },
          "metadata": {
            "tags": [],
            "needs_background": "light"
          }
        },
        {
          "output_type": "display_data",
          "data": {
            "image/png": "[encoded data removed]",
            "text/plain": [
              "<Figure size 432x288 with 1 Axes>"
            ]
          },
          "metadata": {
            "tags": [],
            "needs_background": "light"
          }
        },
        {
          "output_type": "display_data",
          "data": {
            "image/png": "[encoded data removed]",
            "text/plain": [
              "<Figure size 432x288 with 1 Axes>"
            ]
          },
          "metadata": {
            "tags": [],
            "needs_background": "light"
          }
        },
        {
          "output_type": "display_data",
          "data": {
            "image/png": "[encoded data removed]",
            "text/plain": [
              "<Figure size 432x288 with 1 Axes>"
            ]
          },
          "metadata": {
            "tags": [],
            "needs_background": "light"
          }
        },
        {
          "output_type": "display_data",
          "data": {
            "image/png": "[encoded data removed]",
            "text/plain": [
              "<Figure size 432x288 with 1 Axes>"
            ]
          },
          "metadata": {
            "tags": [],
            "needs_background": "light"
          }
        },
        {
          "output_type": "display_data",
          "data": {
            "image/png": "[encoded data removed]",
            "text/plain": [
              "<Figure size 432x288 with 1 Axes>"
            ]
          },
          "metadata": {
            "tags": [],
            "needs_background": "light"
          }
        }
      ]
    },
    {
      "cell_type": "markdown",
      "metadata": {
        "id": "3X_FRzQTWmYQ"
      },
      "source": [
        "# correlation heatmap for all the numerical data"
      ]
    },
    {
      "cell_type": "code",
      "metadata": {
        "id": "cmGogDzoqbUf",
        "colab": {
          "base_uri": "https://localhost:8080/",
          "height": 187
        },
        "outputId": "783ea305-18b6-482b-dfc7-ff299d821e3a"
      },
      "source": [
        "datas.isna().sum()"
      ],
      "execution_count": null,
      "outputs": [
        {
          "output_type": "execute_result",
          "data": {
            "text/plain": [
              "maker                  518915\n",
              "mileage                     0\n",
              "manufacture_year            0\n",
              "engine_displacement         0\n",
              "engine_power                0\n",
              "transmission           741630\n",
              "door_count                  0\n",
              "seat_count                  0\n",
              "price_eur                   0\n",
              "dtype: int64"
            ]
          },
          "metadata": {
            "tags": []
          },
          "execution_count": 25
        }
      ]
    },
    {
      "cell_type": "code",
      "metadata": {
        "id": "ujxdLRFwC-NG",
        "colab": {
          "base_uri": "https://localhost:8080/",
          "height": 366
        },
        "outputId": "2ce3dd72-bfc9-47e2-f576-34806d80d112"
      },
      "source": [
        "f, ax = plt.subplots()\n",
        "sns.heatmap(datas.corr(), annot = True)\n",
        "plt.show()"
      ],
      "execution_count": null,
      "outputs": [
        {
          "output_type": "display_data",
          "data": {
            "image/png": "[encoded data removed]",
            "text/plain": [
              "<Figure size 432x288 with 2 Axes>"
            ]
          },
          "metadata": {
            "tags": [],
            "needs_background": "light"
          }
        }
      ]
    },
    {
      "cell_type": "markdown",
      "metadata": {
        "id": "3gn6OxuhYBOW"
      },
      "source": [
        "# Scaling the numerical data"
      ]
    },
    {
      "cell_type": "code",
      "metadata": {
        "id": "JZMQUTFgC6_v"
      },
      "source": [
        "scaler = StandardScaler()\n",
        "for heading in numerical_datas:\n",
        "   datas[heading] = scaler.fit_transform(datas[heading].values.reshape(-1, 1))"
      ],
      "execution_count": null,
      "outputs": []
    },
    {
      "cell_type": "markdown",
      "metadata": {
        "id": "XUGVVWRbYYS5"
      },
      "source": [
        "# Processing categorical data"
      ]
    },
    {
      "cell_type": "code",
      "metadata": {
        "id": "-9jaX34WkBHc"
      },
      "source": [
        "label_encoder = LabelEncoder()\n",
        "\n",
        "def process_categorical(heading):\n",
        "  print(f'Processing {heading}')\n",
        "  sns.catplot(kind='count', x=heading, data = datas)\n",
        "  plt.show()\n",
        "\n",
        "  datas[heading].fillna(datas[heading].mode()[0], inplace=True)\n",
        "  items = datas[heading].unique()\n",
        "  i=0\n",
        "  item_map = {}\n",
        "  for item in items:\n",
        "      item_map[item] = i\n",
        "      i += 1\n",
        "\n",
        "  datas[heading] = datas[heading].map(item_map)\n",
        "  datas[heading] = label_encoder.fit_transform(datas[heading])\n",
        "  \n",
        "\n",
        "to_process_categorical = ['maker', 'transmission',]\n",
        "\n"
      ],
      "execution_count": null,
      "outputs": []
    },
    {
      "cell_type": "code",
      "metadata": {
        "id": "tZX321JwK6mA",
        "colab": {
          "base_uri": "https://localhost:8080/",
          "height": 755
        },
        "outputId": "9ed4c1a6-66d6-4401-fd3e-5b1e16b867fb"
      },
      "source": [
        "for data in to_process_categorical:\n",
        "  process_categorical(data)"
      ],
      "execution_count": null,
      "outputs": [
        {
          "output_type": "stream",
          "text": [
            "Processing maker\n"
          ],
          "name": "stdout"
        },
        {
          "output_type": "display_data",
          "data": {
            "image/png": "[encoded data removed]",
            "text/plain": [
              "<Figure size 360x360 with 1 Axes>"
            ]
          },
          "metadata": {
            "tags": [],
            "needs_background": "light"
          }
        },
        {
          "output_type": "stream",
          "text": [
            "Processing transmission\n"
          ],
          "name": "stdout"
        },
        {
          "output_type": "display_data",
          "data": {
            "image/png": "[encoded data removed]",
            "text/plain": [
              "<Figure size 360x360 with 1 Axes>"
            ]
          },
          "metadata": {
            "tags": [],
            "needs_background": "light"
          }
        }
      ]
    },
    {
      "cell_type": "markdown",
      "metadata": {
        "id": "j1iUiBorYdHz"
      },
      "source": [
        "# output after data processing"
      ]
    },
    {
      "cell_type": "code",
      "metadata": {
        "id": "NLouB3HRK9xj",
        "colab": {
          "base_uri": "https://localhost:8080/",
          "height": 421
        },
        "outputId": "2ffbd1c9-5195-4a34-d379-e2aa8f04b5a5"
      },
      "source": [
        "datas.head(12)"
      ],
      "execution_count": null,
      "outputs": [
        {
          "output_type": "execute_result",
          "data": {
            "text/html": [
              "<div>\n",
              "<style scoped>\n",
              "    .dataframe tbody tr th:only-of-type {\n",
              "        vertical-align: middle;\n",
              "    }\n",
              "\n",
              "    .dataframe tbody tr th {\n",
              "        vertical-align: top;\n",
              "    }\n",
              "\n",
              "    .dataframe thead th {\n",
              "        text-align: right;\n",
              "    }\n",
              "</style>\n",
              "<table border=\"1\" class=\"dataframe\">\n",
              "  <thead>\n",
              "    <tr style=\"text-align: right;\">\n",
              "      <th></th>\n",
              "      <th>maker</th>\n",
              "      <th>mileage</th>\n",
              "      <th>manufacture_year</th>\n",
              "      <th>engine_displacement</th>\n",
              "      <th>engine_power</th>\n",
              "      <th>transmission</th>\n",
              "      <th>door_count</th>\n",
              "      <th>seat_count</th>\n",
              "      <th>price_eur</th>\n",
              "    </tr>\n",
              "  </thead>\n",
              "  <tbody>\n",
              "    <tr>\n",
              "      <th>0</th>\n",
              "      <td>0</td>\n",
              "      <td>0.058781</td>\n",
              "      <td>0.153364</td>\n",
              "      <td>-0.226701</td>\n",
              "      <td>0.049850</td>\n",
              "      <td>0</td>\n",
              "      <td>1.16744</td>\n",
              "      <td>2.125189</td>\n",
              "      <td>10584.75</td>\n",
              "    </tr>\n",
              "    <tr>\n",
              "      <th>1</th>\n",
              "      <td>1</td>\n",
              "      <td>0.035824</td>\n",
              "      <td>0.166264</td>\n",
              "      <td>-0.226701</td>\n",
              "      <td>-0.434880</td>\n",
              "      <td>0</td>\n",
              "      <td>1.16744</td>\n",
              "      <td>0.611323</td>\n",
              "      <td>8882.31</td>\n",
              "    </tr>\n",
              "    <tr>\n",
              "      <th>2</th>\n",
              "      <td>2</td>\n",
              "      <td>-0.103922</td>\n",
              "      <td>0.140464</td>\n",
              "      <td>-0.229316</td>\n",
              "      <td>-0.346747</td>\n",
              "      <td>0</td>\n",
              "      <td>1.16744</td>\n",
              "      <td>0.611323</td>\n",
              "      <td>12065.06</td>\n",
              "    </tr>\n",
              "    <tr>\n",
              "      <th>3</th>\n",
              "      <td>1</td>\n",
              "      <td>-0.060308</td>\n",
              "      <td>0.063063</td>\n",
              "      <td>-0.645195</td>\n",
              "      <td>-1.184007</td>\n",
              "      <td>0</td>\n",
              "      <td>1.16744</td>\n",
              "      <td>0.611323</td>\n",
              "      <td>2960.77</td>\n",
              "    </tr>\n",
              "    <tr>\n",
              "      <th>4</th>\n",
              "      <td>1</td>\n",
              "      <td>-0.008694</td>\n",
              "      <td>0.063063</td>\n",
              "      <td>-0.645195</td>\n",
              "      <td>-1.184007</td>\n",
              "      <td>0</td>\n",
              "      <td>1.16744</td>\n",
              "      <td>0.611323</td>\n",
              "      <td>2738.71</td>\n",
              "    </tr>\n",
              "    <tr>\n",
              "      <th>5</th>\n",
              "      <td>1</td>\n",
              "      <td>0.028061</td>\n",
              "      <td>0.050162</td>\n",
              "      <td>-0.645195</td>\n",
              "      <td>-1.338239</td>\n",
              "      <td>0</td>\n",
              "      <td>1.16744</td>\n",
              "      <td>0.611323</td>\n",
              "      <td>1628.42</td>\n",
              "    </tr>\n",
              "    <tr>\n",
              "      <th>6</th>\n",
              "      <td>1</td>\n",
              "      <td>0.108272</td>\n",
              "      <td>0.024362</td>\n",
              "      <td>-0.540572</td>\n",
              "      <td>-0.589112</td>\n",
              "      <td>0</td>\n",
              "      <td>1.16744</td>\n",
              "      <td>0.611323</td>\n",
              "      <td>2072.54</td>\n",
              "    </tr>\n",
              "    <tr>\n",
              "      <th>7</th>\n",
              "      <td>2</td>\n",
              "      <td>0.051153</td>\n",
              "      <td>0.127564</td>\n",
              "      <td>-0.226701</td>\n",
              "      <td>0.644745</td>\n",
              "      <td>1</td>\n",
              "      <td>1.16744</td>\n",
              "      <td>0.611323</td>\n",
              "      <td>10547.74</td>\n",
              "    </tr>\n",
              "    <tr>\n",
              "      <th>8</th>\n",
              "      <td>1</td>\n",
              "      <td>-0.080388</td>\n",
              "      <td>0.050162</td>\n",
              "      <td>-0.279012</td>\n",
              "      <td>-0.434880</td>\n",
              "      <td>0</td>\n",
              "      <td>1.16744</td>\n",
              "      <td>0.611323</td>\n",
              "      <td>4293.12</td>\n",
              "    </tr>\n",
              "    <tr>\n",
              "      <th>9</th>\n",
              "      <td>1</td>\n",
              "      <td>0.517627</td>\n",
              "      <td>0.037262</td>\n",
              "      <td>-0.279012</td>\n",
              "      <td>-0.280648</td>\n",
              "      <td>0</td>\n",
              "      <td>1.16744</td>\n",
              "      <td>0.611323</td>\n",
              "      <td>1332.35</td>\n",
              "    </tr>\n",
              "    <tr>\n",
              "      <th>10</th>\n",
              "      <td>1</td>\n",
              "      <td>0.214808</td>\n",
              "      <td>0.037262</td>\n",
              "      <td>-0.540572</td>\n",
              "      <td>-1.007742</td>\n",
              "      <td>0</td>\n",
              "      <td>1.16744</td>\n",
              "      <td>0.611323</td>\n",
              "      <td>740.19</td>\n",
              "    </tr>\n",
              "    <tr>\n",
              "      <th>11</th>\n",
              "      <td>1</td>\n",
              "      <td>0.403081</td>\n",
              "      <td>-0.014339</td>\n",
              "      <td>-0.279012</td>\n",
              "      <td>-0.434880</td>\n",
              "      <td>0</td>\n",
              "      <td>1.16744</td>\n",
              "      <td>0.611323</td>\n",
              "      <td>999.26</td>\n",
              "    </tr>\n",
              "  </tbody>\n",
              "</table>\n",
              "</div>"
            ],
            "text/plain": [
              "    maker   mileage  manufacture_year  ...  door_count  seat_count  price_eur\n",
              "0       0  0.058781          0.153364  ...     1.16744    2.125189   10584.75\n",
              "1       1  0.035824          0.166264  ...     1.16744    0.611323    8882.31\n",
              "2       2 -0.103922          0.140464  ...     1.16744    0.611323   12065.06\n",
              "3       1 -0.060308          0.063063  ...     1.16744    0.611323    2960.77\n",
              "4       1 -0.008694          0.063063  ...     1.16744    0.611323    2738.71\n",
              "5       1  0.028061          0.050162  ...     1.16744    0.611323    1628.42\n",
              "6       1  0.108272          0.024362  ...     1.16744    0.611323    2072.54\n",
              "7       2  0.051153          0.127564  ...     1.16744    0.611323   10547.74\n",
              "8       1 -0.080388          0.050162  ...     1.16744    0.611323    4293.12\n",
              "9       1  0.517627          0.037262  ...     1.16744    0.611323    1332.35\n",
              "10      1  0.214808          0.037262  ...     1.16744    0.611323     740.19\n",
              "11      1  0.403081         -0.014339  ...     1.16744    0.611323     999.26\n",
              "\n",
              "[12 rows x 9 columns]"
            ]
          },
          "metadata": {
            "tags": []
          },
          "execution_count": 30
        }
      ]
    },
    {
      "cell_type": "markdown",
      "metadata": {
        "id": "bXkxxuyrYo8a"
      },
      "source": [
        "# algorithms to use mdata on"
      ]
    },
    {
      "cell_type": "code",
      "metadata": {
        "id": "shkN15duNzd0"
      },
      "source": [
        "def methods(X, y):\n",
        "    X_train, X_test, y_train, y_test = train_test_split(X, y, test_size=0.2)    \n",
        "    lin_reg = LinearRegression()\n",
        "    lin_reg.fit(X_train, y_train)\n",
        "    lin_pred = lin_reg.predict(X_test)\n",
        "    \n",
        "    dtree = DecisionTreeRegressor(criterion='mse')\n",
        "    dtree.fit(X_train, y_train)\n",
        "    dtree_pred = dtree.predict(X_test)\n",
        "    \n",
        "    result( lin_pred, dtree_pred, y_test)\n",
        "\n",
        "def result( lin_pred, dtree_pred, y_test):\n",
        "    print(\"\\t****R2- Score****\")\n",
        "    print(f'For DT: {r2_score(y_test, dtree_pred)} ')\n",
        "    print(f'For LR: {r2_score(y_test, lin_pred)} \\n\\n\\n')\n",
        "    \n",
        "    print(\"\\t****MAE****\")\n",
        "    print(f'For DT: {mean_absolute_error(y_test, dtree_pred)} ')\n",
        "    print(f'For LR: {mean_absolute_error(y_test, lin_pred)} \\n\\n\\n')\n",
        "    \n",
        "    print(\"\\t****MSE****\")\n",
        "    print(f'For DT: {mean_squared_error(y_test, dtree_pred)} ')\n",
        "    print(f'For LR: {mean_squared_error(y_test, lin_pred)} ')"
      ],
      "execution_count": null,
      "outputs": []
    },
    {
      "cell_type": "code",
      "metadata": {
        "id": "sXb4Y8MjOEx7"
      },
      "source": [
        "X = datas.drop('price_eur', axis=1)\n",
        "y = datas['price_eur']"
      ],
      "execution_count": null,
      "outputs": []
    },
    {
      "cell_type": "markdown",
      "metadata": {
        "id": "EmA5Re1aYu4d"
      },
      "source": [
        "# Final result"
      ]
    },
    {
      "cell_type": "code",
      "metadata": {
        "id": "eRWTHc00Oasz",
        "colab": {
          "base_uri": "https://localhost:8080/",
          "height": 272
        },
        "outputId": "7431c4d4-aab4-4b2c-a772-17e66a64fc16"
      },
      "source": [
        "methods(X, y)"
      ],
      "execution_count": null,
      "outputs": [
        {
          "output_type": "stream",
          "text": [
            "\t****R2- Score****\n",
            "For DT: -96689.20522324092 \n",
            "For LR: -0.18762374255771408 \n",
            "\n",
            "\n",
            "\n",
            "\t****MAE****\n",
            "For DT: 12539562.120793961 \n",
            "For LR: 3697839.6846670154 \n",
            "\n",
            "\n",
            "\n",
            "\t****MSE****\n",
            "For DT: 3.031392397274126e+19 \n",
            "For LR: 372339015694461.3 \n"
          ],
          "name": "stdout"
        }
      ]
    },
    {
      "cell_type": "code",
      "metadata": {
        "id": "bYn59671q9lU"
      },
      "source": [
        ""
      ],
      "execution_count": null,
      "outputs": []
    }
  ]
}