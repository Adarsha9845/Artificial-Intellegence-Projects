{
  "nbformat": 4,
  "nbformat_minor": 0,
  "metadata": {
    "colab": {
      "name": "ANN.ipynb",
      "provenance": [],
      "collapsed_sections": []
    },
    "kernelspec": {
      "name": "python3",
      "display_name": "Python 3"
    }
  },
  "cells": [
    {
      "cell_type": "code",
      "metadata": {
        "id": "XCGep0rGqtQW"
      },
      "source": [
        "import pandas as pd\n",
        "import numpy as np\n",
        "from sklearn.preprocessing import StandardScaler\n",
        "from sklearn.metrics import accuracy_score, classification_report\n",
        "from sklearn.model_selection import train_test_split\n"
      ],
      "execution_count": null,
      "outputs": []
    },
    {
      "cell_type": "code",
      "metadata": {
        "id": "nx04U7xrvLb3",
        "colab": {
          "base_uri": "https://localhost:8080/",
          "height": 34
        },
        "outputId": "6640d09d-950f-4dc1-fa9d-7d04e0c28c24"
      },
      "source": [
        "from keras.models import Sequential\n",
        "from keras.layers import Dense\n",
        "from keras.callbacks import EarlyStopping\n"
      ],
      "execution_count": null,
      "outputs": [
        {
          "output_type": "stream",
          "text": [
            "Using TensorFlow backend.\n"
          ],
          "name": "stderr"
        }
      ]
    },
    {
      "cell_type": "code",
      "metadata": {
        "id": "Yq5OWEn_xNxN"
      },
      "source": [
        "data_path = \"/content/drive/My Drive/Data sets/dataset_bank.csv\""
      ],
      "execution_count": null,
      "outputs": []
    },
    {
      "cell_type": "code",
      "metadata": {
        "id": "1OwTGfNwx0HY"
      },
      "source": [
        "data = pd.read_csv(data_path)"
      ],
      "execution_count": null,
      "outputs": []
    },
    {
      "cell_type": "code",
      "metadata": {
        "id": "RwnOzQBgx7MK",
        "colab": {
          "base_uri": "https://localhost:8080/",
          "height": 204
        },
        "outputId": "e7217b11-fe0b-4b07-a408-f04c5ef75aa3"
      },
      "source": [
        "data.head()"
      ],
      "execution_count": null,
      "outputs": [
        {
          "output_type": "execute_result",
          "data": {
            "text/html": [
              "<div>\n",
              "<style scoped>\n",
              "    .dataframe tbody tr th:only-of-type {\n",
              "        vertical-align: middle;\n",
              "    }\n",
              "\n",
              "    .dataframe tbody tr th {\n",
              "        vertical-align: top;\n",
              "    }\n",
              "\n",
              "    .dataframe thead th {\n",
              "        text-align: right;\n",
              "    }\n",
              "</style>\n",
              "<table border=\"1\" class=\"dataframe\">\n",
              "  <thead>\n",
              "    <tr style=\"text-align: right;\">\n",
              "      <th></th>\n",
              "      <th>RowNumber</th>\n",
              "      <th>CustomerId</th>\n",
              "      <th>Surname</th>\n",
              "      <th>CreditScore</th>\n",
              "      <th>Geography</th>\n",
              "      <th>Gender</th>\n",
              "      <th>Age</th>\n",
              "      <th>Tenure</th>\n",
              "      <th>Balance</th>\n",
              "      <th>NumOfProducts</th>\n",
              "      <th>HasCrCard</th>\n",
              "      <th>IsActiveMember</th>\n",
              "      <th>EstimatedSalary</th>\n",
              "      <th>Exited</th>\n",
              "    </tr>\n",
              "  </thead>\n",
              "  <tbody>\n",
              "    <tr>\n",
              "      <th>0</th>\n",
              "      <td>1</td>\n",
              "      <td>15634602</td>\n",
              "      <td>Hargrave</td>\n",
              "      <td>619</td>\n",
              "      <td>France</td>\n",
              "      <td>Female</td>\n",
              "      <td>42</td>\n",
              "      <td>2</td>\n",
              "      <td>0.00</td>\n",
              "      <td>1</td>\n",
              "      <td>1</td>\n",
              "      <td>1</td>\n",
              "      <td>101348.88</td>\n",
              "      <td>1</td>\n",
              "    </tr>\n",
              "    <tr>\n",
              "      <th>1</th>\n",
              "      <td>2</td>\n",
              "      <td>15647311</td>\n",
              "      <td>Hill</td>\n",
              "      <td>608</td>\n",
              "      <td>Spain</td>\n",
              "      <td>Female</td>\n",
              "      <td>41</td>\n",
              "      <td>1</td>\n",
              "      <td>83807.86</td>\n",
              "      <td>1</td>\n",
              "      <td>0</td>\n",
              "      <td>1</td>\n",
              "      <td>112542.58</td>\n",
              "      <td>0</td>\n",
              "    </tr>\n",
              "    <tr>\n",
              "      <th>2</th>\n",
              "      <td>3</td>\n",
              "      <td>15619304</td>\n",
              "      <td>Onio</td>\n",
              "      <td>502</td>\n",
              "      <td>France</td>\n",
              "      <td>Female</td>\n",
              "      <td>42</td>\n",
              "      <td>8</td>\n",
              "      <td>159660.80</td>\n",
              "      <td>3</td>\n",
              "      <td>1</td>\n",
              "      <td>0</td>\n",
              "      <td>113931.57</td>\n",
              "      <td>1</td>\n",
              "    </tr>\n",
              "    <tr>\n",
              "      <th>3</th>\n",
              "      <td>4</td>\n",
              "      <td>15701354</td>\n",
              "      <td>Boni</td>\n",
              "      <td>699</td>\n",
              "      <td>France</td>\n",
              "      <td>Female</td>\n",
              "      <td>39</td>\n",
              "      <td>1</td>\n",
              "      <td>0.00</td>\n",
              "      <td>2</td>\n",
              "      <td>0</td>\n",
              "      <td>0</td>\n",
              "      <td>93826.63</td>\n",
              "      <td>0</td>\n",
              "    </tr>\n",
              "    <tr>\n",
              "      <th>4</th>\n",
              "      <td>5</td>\n",
              "      <td>15737888</td>\n",
              "      <td>Mitchell</td>\n",
              "      <td>850</td>\n",
              "      <td>Spain</td>\n",
              "      <td>Female</td>\n",
              "      <td>43</td>\n",
              "      <td>2</td>\n",
              "      <td>125510.82</td>\n",
              "      <td>1</td>\n",
              "      <td>1</td>\n",
              "      <td>1</td>\n",
              "      <td>79084.10</td>\n",
              "      <td>0</td>\n",
              "    </tr>\n",
              "  </tbody>\n",
              "</table>\n",
              "</div>"
            ],
            "text/plain": [
              "   RowNumber  CustomerId   Surname  ...  IsActiveMember EstimatedSalary Exited\n",
              "0          1    15634602  Hargrave  ...               1       101348.88      1\n",
              "1          2    15647311      Hill  ...               1       112542.58      0\n",
              "2          3    15619304      Onio  ...               0       113931.57      1\n",
              "3          4    15701354      Boni  ...               0        93826.63      0\n",
              "4          5    15737888  Mitchell  ...               1        79084.10      0\n",
              "\n",
              "[5 rows x 14 columns]"
            ]
          },
          "metadata": {
            "tags": []
          },
          "execution_count": 5
        }
      ]
    },
    {
      "cell_type": "code",
      "metadata": {
        "id": "k5Ftmoz1x9fb"
      },
      "source": [
        "cols_drop = ['RowNumber', 'CustomerId', 'Surname']"
      ],
      "execution_count": null,
      "outputs": []
    },
    {
      "cell_type": "code",
      "metadata": {
        "id": "Nrj-_PGBy7D2"
      },
      "source": [
        "data.drop(cols_drop, axis = 1, inplace = True)"
      ],
      "execution_count": null,
      "outputs": []
    },
    {
      "cell_type": "code",
      "metadata": {
        "id": "pki4rDsvzO4U",
        "colab": {
          "base_uri": "https://localhost:8080/",
          "height": 204
        },
        "outputId": "692b465f-f14b-4c2f-ddb4-19e5afc71186"
      },
      "source": [
        "data.head()"
      ],
      "execution_count": null,
      "outputs": [
        {
          "output_type": "execute_result",
          "data": {
            "text/html": [
              "<div>\n",
              "<style scoped>\n",
              "    .dataframe tbody tr th:only-of-type {\n",
              "        vertical-align: middle;\n",
              "    }\n",
              "\n",
              "    .dataframe tbody tr th {\n",
              "        vertical-align: top;\n",
              "    }\n",
              "\n",
              "    .dataframe thead th {\n",
              "        text-align: right;\n",
              "    }\n",
              "</style>\n",
              "<table border=\"1\" class=\"dataframe\">\n",
              "  <thead>\n",
              "    <tr style=\"text-align: right;\">\n",
              "      <th></th>\n",
              "      <th>CreditScore</th>\n",
              "      <th>Geography</th>\n",
              "      <th>Gender</th>\n",
              "      <th>Age</th>\n",
              "      <th>Tenure</th>\n",
              "      <th>Balance</th>\n",
              "      <th>NumOfProducts</th>\n",
              "      <th>HasCrCard</th>\n",
              "      <th>IsActiveMember</th>\n",
              "      <th>EstimatedSalary</th>\n",
              "      <th>Exited</th>\n",
              "    </tr>\n",
              "  </thead>\n",
              "  <tbody>\n",
              "    <tr>\n",
              "      <th>0</th>\n",
              "      <td>619</td>\n",
              "      <td>France</td>\n",
              "      <td>Female</td>\n",
              "      <td>42</td>\n",
              "      <td>2</td>\n",
              "      <td>0.00</td>\n",
              "      <td>1</td>\n",
              "      <td>1</td>\n",
              "      <td>1</td>\n",
              "      <td>101348.88</td>\n",
              "      <td>1</td>\n",
              "    </tr>\n",
              "    <tr>\n",
              "      <th>1</th>\n",
              "      <td>608</td>\n",
              "      <td>Spain</td>\n",
              "      <td>Female</td>\n",
              "      <td>41</td>\n",
              "      <td>1</td>\n",
              "      <td>83807.86</td>\n",
              "      <td>1</td>\n",
              "      <td>0</td>\n",
              "      <td>1</td>\n",
              "      <td>112542.58</td>\n",
              "      <td>0</td>\n",
              "    </tr>\n",
              "    <tr>\n",
              "      <th>2</th>\n",
              "      <td>502</td>\n",
              "      <td>France</td>\n",
              "      <td>Female</td>\n",
              "      <td>42</td>\n",
              "      <td>8</td>\n",
              "      <td>159660.80</td>\n",
              "      <td>3</td>\n",
              "      <td>1</td>\n",
              "      <td>0</td>\n",
              "      <td>113931.57</td>\n",
              "      <td>1</td>\n",
              "    </tr>\n",
              "    <tr>\n",
              "      <th>3</th>\n",
              "      <td>699</td>\n",
              "      <td>France</td>\n",
              "      <td>Female</td>\n",
              "      <td>39</td>\n",
              "      <td>1</td>\n",
              "      <td>0.00</td>\n",
              "      <td>2</td>\n",
              "      <td>0</td>\n",
              "      <td>0</td>\n",
              "      <td>93826.63</td>\n",
              "      <td>0</td>\n",
              "    </tr>\n",
              "    <tr>\n",
              "      <th>4</th>\n",
              "      <td>850</td>\n",
              "      <td>Spain</td>\n",
              "      <td>Female</td>\n",
              "      <td>43</td>\n",
              "      <td>2</td>\n",
              "      <td>125510.82</td>\n",
              "      <td>1</td>\n",
              "      <td>1</td>\n",
              "      <td>1</td>\n",
              "      <td>79084.10</td>\n",
              "      <td>0</td>\n",
              "    </tr>\n",
              "  </tbody>\n",
              "</table>\n",
              "</div>"
            ],
            "text/plain": [
              "   CreditScore Geography  Gender  ...  IsActiveMember  EstimatedSalary  Exited\n",
              "0          619    France  Female  ...               1        101348.88       1\n",
              "1          608     Spain  Female  ...               1        112542.58       0\n",
              "2          502    France  Female  ...               0        113931.57       1\n",
              "3          699    France  Female  ...               0         93826.63       0\n",
              "4          850     Spain  Female  ...               1         79084.10       0\n",
              "\n",
              "[5 rows x 11 columns]"
            ]
          },
          "metadata": {
            "tags": []
          },
          "execution_count": 8
        }
      ]
    },
    {
      "cell_type": "code",
      "metadata": {
        "id": "RP2OahbczQvv"
      },
      "source": [
        "cat_cols = ['Geography', 'Gender']"
      ],
      "execution_count": null,
      "outputs": []
    },
    {
      "cell_type": "code",
      "metadata": {
        "id": "SrNqEdSFzhtN"
      },
      "source": [
        "for col in cat_cols:\n",
        "  data[col] = pd.Categorical(data[col])\n"
      ],
      "execution_count": null,
      "outputs": []
    },
    {
      "cell_type": "code",
      "metadata": {
        "id": "xJDHWraEzyeU",
        "colab": {
          "base_uri": "https://localhost:8080/",
          "height": 224
        },
        "outputId": "0da2d88d-8299-4259-e0f7-91bfcdcd4248"
      },
      "source": [
        "data = pd.get_dummies(data)\n",
        "data.head()"
      ],
      "execution_count": null,
      "outputs": [
        {
          "output_type": "execute_result",
          "data": {
            "text/html": [
              "<div>\n",
              "<style scoped>\n",
              "    .dataframe tbody tr th:only-of-type {\n",
              "        vertical-align: middle;\n",
              "    }\n",
              "\n",
              "    .dataframe tbody tr th {\n",
              "        vertical-align: top;\n",
              "    }\n",
              "\n",
              "    .dataframe thead th {\n",
              "        text-align: right;\n",
              "    }\n",
              "</style>\n",
              "<table border=\"1\" class=\"dataframe\">\n",
              "  <thead>\n",
              "    <tr style=\"text-align: right;\">\n",
              "      <th></th>\n",
              "      <th>CreditScore</th>\n",
              "      <th>Age</th>\n",
              "      <th>Tenure</th>\n",
              "      <th>Balance</th>\n",
              "      <th>NumOfProducts</th>\n",
              "      <th>HasCrCard</th>\n",
              "      <th>IsActiveMember</th>\n",
              "      <th>EstimatedSalary</th>\n",
              "      <th>Exited</th>\n",
              "      <th>Geography_France</th>\n",
              "      <th>Geography_Germany</th>\n",
              "      <th>Geography_Spain</th>\n",
              "      <th>Gender_Female</th>\n",
              "      <th>Gender_Male</th>\n",
              "    </tr>\n",
              "  </thead>\n",
              "  <tbody>\n",
              "    <tr>\n",
              "      <th>0</th>\n",
              "      <td>619</td>\n",
              "      <td>42</td>\n",
              "      <td>2</td>\n",
              "      <td>0.00</td>\n",
              "      <td>1</td>\n",
              "      <td>1</td>\n",
              "      <td>1</td>\n",
              "      <td>101348.88</td>\n",
              "      <td>1</td>\n",
              "      <td>1</td>\n",
              "      <td>0</td>\n",
              "      <td>0</td>\n",
              "      <td>1</td>\n",
              "      <td>0</td>\n",
              "    </tr>\n",
              "    <tr>\n",
              "      <th>1</th>\n",
              "      <td>608</td>\n",
              "      <td>41</td>\n",
              "      <td>1</td>\n",
              "      <td>83807.86</td>\n",
              "      <td>1</td>\n",
              "      <td>0</td>\n",
              "      <td>1</td>\n",
              "      <td>112542.58</td>\n",
              "      <td>0</td>\n",
              "      <td>0</td>\n",
              "      <td>0</td>\n",
              "      <td>1</td>\n",
              "      <td>1</td>\n",
              "      <td>0</td>\n",
              "    </tr>\n",
              "    <tr>\n",
              "      <th>2</th>\n",
              "      <td>502</td>\n",
              "      <td>42</td>\n",
              "      <td>8</td>\n",
              "      <td>159660.80</td>\n",
              "      <td>3</td>\n",
              "      <td>1</td>\n",
              "      <td>0</td>\n",
              "      <td>113931.57</td>\n",
              "      <td>1</td>\n",
              "      <td>1</td>\n",
              "      <td>0</td>\n",
              "      <td>0</td>\n",
              "      <td>1</td>\n",
              "      <td>0</td>\n",
              "    </tr>\n",
              "    <tr>\n",
              "      <th>3</th>\n",
              "      <td>699</td>\n",
              "      <td>39</td>\n",
              "      <td>1</td>\n",
              "      <td>0.00</td>\n",
              "      <td>2</td>\n",
              "      <td>0</td>\n",
              "      <td>0</td>\n",
              "      <td>93826.63</td>\n",
              "      <td>0</td>\n",
              "      <td>1</td>\n",
              "      <td>0</td>\n",
              "      <td>0</td>\n",
              "      <td>1</td>\n",
              "      <td>0</td>\n",
              "    </tr>\n",
              "    <tr>\n",
              "      <th>4</th>\n",
              "      <td>850</td>\n",
              "      <td>43</td>\n",
              "      <td>2</td>\n",
              "      <td>125510.82</td>\n",
              "      <td>1</td>\n",
              "      <td>1</td>\n",
              "      <td>1</td>\n",
              "      <td>79084.10</td>\n",
              "      <td>0</td>\n",
              "      <td>0</td>\n",
              "      <td>0</td>\n",
              "      <td>1</td>\n",
              "      <td>1</td>\n",
              "      <td>0</td>\n",
              "    </tr>\n",
              "  </tbody>\n",
              "</table>\n",
              "</div>"
            ],
            "text/plain": [
              "   CreditScore  Age  Tenure  ...  Geography_Spain  Gender_Female  Gender_Male\n",
              "0          619   42       2  ...                0              1            0\n",
              "1          608   41       1  ...                1              1            0\n",
              "2          502   42       8  ...                0              1            0\n",
              "3          699   39       1  ...                0              1            0\n",
              "4          850   43       2  ...                1              1            0\n",
              "\n",
              "[5 rows x 14 columns]"
            ]
          },
          "metadata": {
            "tags": []
          },
          "execution_count": 11
        }
      ]
    },
    {
      "cell_type": "code",
      "metadata": {
        "id": "vEvQzVko0Cu_"
      },
      "source": [
        "cols_scale = ['CreditScore', 'Age', 'Balance', 'EstimatedSalary']"
      ],
      "execution_count": null,
      "outputs": []
    },
    {
      "cell_type": "code",
      "metadata": {
        "id": "d9wqKLu31HWJ"
      },
      "source": [
        "scaler = StandardScaler()"
      ],
      "execution_count": null,
      "outputs": []
    },
    {
      "cell_type": "code",
      "metadata": {
        "id": "GgSJJYOD1VOD"
      },
      "source": [
        "for col in cols_scale:\n",
        "  data[col] = scaler.fit_transform(data[col].values.reshape(-1, 1))"
      ],
      "execution_count": null,
      "outputs": []
    },
    {
      "cell_type": "code",
      "metadata": {
        "id": "-GO4Thq-15bc",
        "colab": {
          "base_uri": "https://localhost:8080/",
          "height": 224
        },
        "outputId": "1c7744e4-21d1-489f-d110-d3826b903980"
      },
      "source": [
        "data.head()"
      ],
      "execution_count": null,
      "outputs": [
        {
          "output_type": "execute_result",
          "data": {
            "text/html": [
              "<div>\n",
              "<style scoped>\n",
              "    .dataframe tbody tr th:only-of-type {\n",
              "        vertical-align: middle;\n",
              "    }\n",
              "\n",
              "    .dataframe tbody tr th {\n",
              "        vertical-align: top;\n",
              "    }\n",
              "\n",
              "    .dataframe thead th {\n",
              "        text-align: right;\n",
              "    }\n",
              "</style>\n",
              "<table border=\"1\" class=\"dataframe\">\n",
              "  <thead>\n",
              "    <tr style=\"text-align: right;\">\n",
              "      <th></th>\n",
              "      <th>CreditScore</th>\n",
              "      <th>Age</th>\n",
              "      <th>Tenure</th>\n",
              "      <th>Balance</th>\n",
              "      <th>NumOfProducts</th>\n",
              "      <th>HasCrCard</th>\n",
              "      <th>IsActiveMember</th>\n",
              "      <th>EstimatedSalary</th>\n",
              "      <th>Exited</th>\n",
              "      <th>Geography_France</th>\n",
              "      <th>Geography_Germany</th>\n",
              "      <th>Geography_Spain</th>\n",
              "      <th>Gender_Female</th>\n",
              "      <th>Gender_Male</th>\n",
              "    </tr>\n",
              "  </thead>\n",
              "  <tbody>\n",
              "    <tr>\n",
              "      <th>0</th>\n",
              "      <td>-0.326221</td>\n",
              "      <td>0.293517</td>\n",
              "      <td>2</td>\n",
              "      <td>-1.225848</td>\n",
              "      <td>1</td>\n",
              "      <td>1</td>\n",
              "      <td>1</td>\n",
              "      <td>0.021886</td>\n",
              "      <td>1</td>\n",
              "      <td>1</td>\n",
              "      <td>0</td>\n",
              "      <td>0</td>\n",
              "      <td>1</td>\n",
              "      <td>0</td>\n",
              "    </tr>\n",
              "    <tr>\n",
              "      <th>1</th>\n",
              "      <td>-0.440036</td>\n",
              "      <td>0.198164</td>\n",
              "      <td>1</td>\n",
              "      <td>0.117350</td>\n",
              "      <td>1</td>\n",
              "      <td>0</td>\n",
              "      <td>1</td>\n",
              "      <td>0.216534</td>\n",
              "      <td>0</td>\n",
              "      <td>0</td>\n",
              "      <td>0</td>\n",
              "      <td>1</td>\n",
              "      <td>1</td>\n",
              "      <td>0</td>\n",
              "    </tr>\n",
              "    <tr>\n",
              "      <th>2</th>\n",
              "      <td>-1.536794</td>\n",
              "      <td>0.293517</td>\n",
              "      <td>8</td>\n",
              "      <td>1.333053</td>\n",
              "      <td>3</td>\n",
              "      <td>1</td>\n",
              "      <td>0</td>\n",
              "      <td>0.240687</td>\n",
              "      <td>1</td>\n",
              "      <td>1</td>\n",
              "      <td>0</td>\n",
              "      <td>0</td>\n",
              "      <td>1</td>\n",
              "      <td>0</td>\n",
              "    </tr>\n",
              "    <tr>\n",
              "      <th>3</th>\n",
              "      <td>0.501521</td>\n",
              "      <td>0.007457</td>\n",
              "      <td>1</td>\n",
              "      <td>-1.225848</td>\n",
              "      <td>2</td>\n",
              "      <td>0</td>\n",
              "      <td>0</td>\n",
              "      <td>-0.108918</td>\n",
              "      <td>0</td>\n",
              "      <td>1</td>\n",
              "      <td>0</td>\n",
              "      <td>0</td>\n",
              "      <td>1</td>\n",
              "      <td>0</td>\n",
              "    </tr>\n",
              "    <tr>\n",
              "      <th>4</th>\n",
              "      <td>2.063884</td>\n",
              "      <td>0.388871</td>\n",
              "      <td>2</td>\n",
              "      <td>0.785728</td>\n",
              "      <td>1</td>\n",
              "      <td>1</td>\n",
              "      <td>1</td>\n",
              "      <td>-0.365276</td>\n",
              "      <td>0</td>\n",
              "      <td>0</td>\n",
              "      <td>0</td>\n",
              "      <td>1</td>\n",
              "      <td>1</td>\n",
              "      <td>0</td>\n",
              "    </tr>\n",
              "  </tbody>\n",
              "</table>\n",
              "</div>"
            ],
            "text/plain": [
              "   CreditScore       Age  Tenure  ...  Geography_Spain  Gender_Female  Gender_Male\n",
              "0    -0.326221  0.293517       2  ...                0              1            0\n",
              "1    -0.440036  0.198164       1  ...                1              1            0\n",
              "2    -1.536794  0.293517       8  ...                0              1            0\n",
              "3     0.501521  0.007457       1  ...                0              1            0\n",
              "4     2.063884  0.388871       2  ...                1              1            0\n",
              "\n",
              "[5 rows x 14 columns]"
            ]
          },
          "metadata": {
            "tags": []
          },
          "execution_count": 15
        }
      ]
    },
    {
      "cell_type": "code",
      "metadata": {
        "id": "UmoGWtvI1782"
      },
      "source": [
        "X = data.drop('Exited', axis = 1)\n",
        "y = data['Exited']"
      ],
      "execution_count": null,
      "outputs": []
    },
    {
      "cell_type": "code",
      "metadata": {
        "id": "l86DtGlg2X72",
        "colab": {
          "base_uri": "https://localhost:8080/",
          "height": 317
        },
        "outputId": "2211c27b-04ca-4d32-d3b2-f05f45390e8d"
      },
      "source": [
        "X.describe()"
      ],
      "execution_count": null,
      "outputs": [
        {
          "output_type": "execute_result",
          "data": {
            "text/html": [
              "<div>\n",
              "<style scoped>\n",
              "    .dataframe tbody tr th:only-of-type {\n",
              "        vertical-align: middle;\n",
              "    }\n",
              "\n",
              "    .dataframe tbody tr th {\n",
              "        vertical-align: top;\n",
              "    }\n",
              "\n",
              "    .dataframe thead th {\n",
              "        text-align: right;\n",
              "    }\n",
              "</style>\n",
              "<table border=\"1\" class=\"dataframe\">\n",
              "  <thead>\n",
              "    <tr style=\"text-align: right;\">\n",
              "      <th></th>\n",
              "      <th>CreditScore</th>\n",
              "      <th>Age</th>\n",
              "      <th>Tenure</th>\n",
              "      <th>Balance</th>\n",
              "      <th>NumOfProducts</th>\n",
              "      <th>HasCrCard</th>\n",
              "      <th>IsActiveMember</th>\n",
              "      <th>EstimatedSalary</th>\n",
              "      <th>Geography_France</th>\n",
              "      <th>Geography_Germany</th>\n",
              "      <th>Geography_Spain</th>\n",
              "      <th>Gender_Female</th>\n",
              "      <th>Gender_Male</th>\n",
              "    </tr>\n",
              "  </thead>\n",
              "  <tbody>\n",
              "    <tr>\n",
              "      <th>count</th>\n",
              "      <td>1.000000e+04</td>\n",
              "      <td>1.000000e+04</td>\n",
              "      <td>10000.000000</td>\n",
              "      <td>1.000000e+04</td>\n",
              "      <td>10000.000000</td>\n",
              "      <td>10000.00000</td>\n",
              "      <td>10000.000000</td>\n",
              "      <td>1.000000e+04</td>\n",
              "      <td>10000.000000</td>\n",
              "      <td>10000.000000</td>\n",
              "      <td>10000.000000</td>\n",
              "      <td>10000.000000</td>\n",
              "      <td>10000.000000</td>\n",
              "    </tr>\n",
              "    <tr>\n",
              "      <th>mean</th>\n",
              "      <td>-4.870326e-16</td>\n",
              "      <td>2.484679e-16</td>\n",
              "      <td>5.012800</td>\n",
              "      <td>-5.978551e-17</td>\n",
              "      <td>1.530200</td>\n",
              "      <td>0.70550</td>\n",
              "      <td>0.515100</td>\n",
              "      <td>-1.580958e-17</td>\n",
              "      <td>0.501400</td>\n",
              "      <td>0.250900</td>\n",
              "      <td>0.247700</td>\n",
              "      <td>0.454300</td>\n",
              "      <td>0.545700</td>\n",
              "    </tr>\n",
              "    <tr>\n",
              "      <th>std</th>\n",
              "      <td>1.000050e+00</td>\n",
              "      <td>1.000050e+00</td>\n",
              "      <td>2.892174</td>\n",
              "      <td>1.000050e+00</td>\n",
              "      <td>0.581654</td>\n",
              "      <td>0.45584</td>\n",
              "      <td>0.499797</td>\n",
              "      <td>1.000050e+00</td>\n",
              "      <td>0.500023</td>\n",
              "      <td>0.433553</td>\n",
              "      <td>0.431698</td>\n",
              "      <td>0.497932</td>\n",
              "      <td>0.497932</td>\n",
              "    </tr>\n",
              "    <tr>\n",
              "      <th>min</th>\n",
              "      <td>-3.109504e+00</td>\n",
              "      <td>-1.994969e+00</td>\n",
              "      <td>0.000000</td>\n",
              "      <td>-1.225848e+00</td>\n",
              "      <td>1.000000</td>\n",
              "      <td>0.00000</td>\n",
              "      <td>0.000000</td>\n",
              "      <td>-1.740268e+00</td>\n",
              "      <td>0.000000</td>\n",
              "      <td>0.000000</td>\n",
              "      <td>0.000000</td>\n",
              "      <td>0.000000</td>\n",
              "      <td>0.000000</td>\n",
              "    </tr>\n",
              "    <tr>\n",
              "      <th>25%</th>\n",
              "      <td>-6.883586e-01</td>\n",
              "      <td>-6.600185e-01</td>\n",
              "      <td>3.000000</td>\n",
              "      <td>-1.225848e+00</td>\n",
              "      <td>1.000000</td>\n",
              "      <td>0.00000</td>\n",
              "      <td>0.000000</td>\n",
              "      <td>-8.535935e-01</td>\n",
              "      <td>0.000000</td>\n",
              "      <td>0.000000</td>\n",
              "      <td>0.000000</td>\n",
              "      <td>0.000000</td>\n",
              "      <td>0.000000</td>\n",
              "    </tr>\n",
              "    <tr>\n",
              "      <th>50%</th>\n",
              "      <td>1.522218e-02</td>\n",
              "      <td>-1.832505e-01</td>\n",
              "      <td>5.000000</td>\n",
              "      <td>3.319639e-01</td>\n",
              "      <td>1.000000</td>\n",
              "      <td>1.00000</td>\n",
              "      <td>1.000000</td>\n",
              "      <td>1.802807e-03</td>\n",
              "      <td>1.000000</td>\n",
              "      <td>0.000000</td>\n",
              "      <td>0.000000</td>\n",
              "      <td>0.000000</td>\n",
              "      <td>1.000000</td>\n",
              "    </tr>\n",
              "    <tr>\n",
              "      <th>75%</th>\n",
              "      <td>6.981094e-01</td>\n",
              "      <td>4.842246e-01</td>\n",
              "      <td>7.000000</td>\n",
              "      <td>8.199205e-01</td>\n",
              "      <td>2.000000</td>\n",
              "      <td>1.00000</td>\n",
              "      <td>1.000000</td>\n",
              "      <td>8.572431e-01</td>\n",
              "      <td>1.000000</td>\n",
              "      <td>1.000000</td>\n",
              "      <td>0.000000</td>\n",
              "      <td>1.000000</td>\n",
              "      <td>1.000000</td>\n",
              "    </tr>\n",
              "    <tr>\n",
              "      <th>max</th>\n",
              "      <td>2.063884e+00</td>\n",
              "      <td>5.061197e+00</td>\n",
              "      <td>10.000000</td>\n",
              "      <td>2.795323e+00</td>\n",
              "      <td>4.000000</td>\n",
              "      <td>1.00000</td>\n",
              "      <td>1.000000</td>\n",
              "      <td>1.737200e+00</td>\n",
              "      <td>1.000000</td>\n",
              "      <td>1.000000</td>\n",
              "      <td>1.000000</td>\n",
              "      <td>1.000000</td>\n",
              "      <td>1.000000</td>\n",
              "    </tr>\n",
              "  </tbody>\n",
              "</table>\n",
              "</div>"
            ],
            "text/plain": [
              "        CreditScore           Age  ...  Gender_Female   Gender_Male\n",
              "count  1.000000e+04  1.000000e+04  ...   10000.000000  10000.000000\n",
              "mean  -4.870326e-16  2.484679e-16  ...       0.454300      0.545700\n",
              "std    1.000050e+00  1.000050e+00  ...       0.497932      0.497932\n",
              "min   -3.109504e+00 -1.994969e+00  ...       0.000000      0.000000\n",
              "25%   -6.883586e-01 -6.600185e-01  ...       0.000000      0.000000\n",
              "50%    1.522218e-02 -1.832505e-01  ...       0.000000      1.000000\n",
              "75%    6.981094e-01  4.842246e-01  ...       1.000000      1.000000\n",
              "max    2.063884e+00  5.061197e+00  ...       1.000000      1.000000\n",
              "\n",
              "[8 rows x 13 columns]"
            ]
          },
          "metadata": {
            "tags": []
          },
          "execution_count": 17
        }
      ]
    },
    {
      "cell_type": "code",
      "metadata": {
        "id": "y8viaxDP2bHE",
        "colab": {
          "base_uri": "https://localhost:8080/",
          "height": 34
        },
        "outputId": "e12df942-b77a-45ad-84f3-ba9aa1fffe40"
      },
      "source": [
        "X.shape"
      ],
      "execution_count": null,
      "outputs": [
        {
          "output_type": "execute_result",
          "data": {
            "text/plain": [
              "(10000, 13)"
            ]
          },
          "metadata": {
            "tags": []
          },
          "execution_count": 18
        }
      ]
    },
    {
      "cell_type": "code",
      "metadata": {
        "id": "dgYR8cIo2xX5"
      },
      "source": [
        "\n",
        "model = Sequential()\n",
        "# input layer\n",
        "model.add(Dense(input_dim = 13, units = 8, activation = 'relu')) \n",
        "# hidden layer\n",
        "model.add(Dense(units = 16, activation = 'relu'))\n",
        "model.add(Dense(units = 4, activation = 'relu'))\n",
        "# output layer\n",
        "model.add(Dense(units = 1, activation = 'sigmoid'))\n",
        "\n",
        "model.compile(loss = 'binary_crossentropy', optimizer = 'sgd', metrics = ['accuracy'])"
      ],
      "execution_count": null,
      "outputs": []
    },
    {
      "cell_type": "code",
      "metadata": {
        "id": "mohU2OAm28ka",
        "colab": {
          "base_uri": "https://localhost:8080/",
          "height": 289
        },
        "outputId": "69613826-7b2d-45ef-fbb1-0e971296fe70"
      },
      "source": [
        "model.summary()"
      ],
      "execution_count": null,
      "outputs": [
        {
          "output_type": "stream",
          "text": [
            "Model: \"sequential_1\"\n",
            "_________________________________________________________________\n",
            "Layer (type)                 Output Shape              Param #   \n",
            "=================================================================\n",
            "dense_1 (Dense)              (None, 8)                 112       \n",
            "_________________________________________________________________\n",
            "dense_2 (Dense)              (None, 16)                144       \n",
            "_________________________________________________________________\n",
            "dense_3 (Dense)              (None, 4)                 68        \n",
            "_________________________________________________________________\n",
            "dense_4 (Dense)              (None, 1)                 5         \n",
            "=================================================================\n",
            "Total params: 329\n",
            "Trainable params: 329\n",
            "Non-trainable params: 0\n",
            "_________________________________________________________________\n"
          ],
          "name": "stdout"
        }
      ]
    },
    {
      "cell_type": "code",
      "metadata": {
        "id": "uQtmrlRK8qhP"
      },
      "source": [
        "es = EarlyStopping(patience = 10)\n",
        "X_train, X_test, y_train, y_test = train_test_split(X, y, test_size=0.1)"
      ],
      "execution_count": null,
      "outputs": []
    },
    {
      "cell_type": "code",
      "metadata": {
        "id": "xI7dsKK2Aoec",
        "colab": {
          "base_uri": "https://localhost:8080/",
          "height": 1000
        },
        "outputId": "f22ff6e1-8ae5-4c75-8202-82bcd91fef44"
      },
      "source": [
        "model.fit(X_train, y_train, epochs=100, validation_split=0.2, callbacks=[es,])"
      ],
      "execution_count": null,
      "outputs": [
        {
          "output_type": "stream",
          "text": [
            "Train on 7200 samples, validate on 1800 samples\n",
            "Epoch 1/100\n",
            "7200/7200 [==============================] - 1s 78us/step - loss: 0.5638 - accuracy: 0.7493 - val_loss: 0.5197 - val_accuracy: 0.7961\n",
            "Epoch 2/100\n",
            "7200/7200 [==============================] - 0s 40us/step - loss: 0.5071 - accuracy: 0.7972 - val_loss: 0.5037 - val_accuracy: 0.7967\n",
            "Epoch 3/100\n",
            "7200/7200 [==============================] - 0s 39us/step - loss: 0.4939 - accuracy: 0.7972 - val_loss: 0.4924 - val_accuracy: 0.7967\n",
            "Epoch 4/100\n",
            "7200/7200 [==============================] - 0s 43us/step - loss: 0.4823 - accuracy: 0.7972 - val_loss: 0.4800 - val_accuracy: 0.7967\n",
            "Epoch 5/100\n",
            "7200/7200 [==============================] - 0s 39us/step - loss: 0.4702 - accuracy: 0.7972 - val_loss: 0.4693 - val_accuracy: 0.7967\n",
            "Epoch 6/100\n",
            "7200/7200 [==============================] - 0s 45us/step - loss: 0.4599 - accuracy: 0.7972 - val_loss: 0.4594 - val_accuracy: 0.7967\n",
            "Epoch 7/100\n",
            "7200/7200 [==============================] - 0s 44us/step - loss: 0.4506 - accuracy: 0.7969 - val_loss: 0.4539 - val_accuracy: 0.7928\n",
            "Epoch 8/100\n",
            "7200/7200 [==============================] - 0s 46us/step - loss: 0.4442 - accuracy: 0.8026 - val_loss: 0.4468 - val_accuracy: 0.8006\n",
            "Epoch 9/100\n",
            "7200/7200 [==============================] - 0s 44us/step - loss: 0.4395 - accuracy: 0.8050 - val_loss: 0.4449 - val_accuracy: 0.8028\n",
            "Epoch 10/100\n",
            "7200/7200 [==============================] - 0s 39us/step - loss: 0.4365 - accuracy: 0.8046 - val_loss: 0.4398 - val_accuracy: 0.8033\n",
            "Epoch 11/100\n",
            "7200/7200 [==============================] - 0s 40us/step - loss: 0.4341 - accuracy: 0.8049 - val_loss: 0.4381 - val_accuracy: 0.8072\n",
            "Epoch 12/100\n",
            "7200/7200 [==============================] - 0s 39us/step - loss: 0.4316 - accuracy: 0.8054 - val_loss: 0.4376 - val_accuracy: 0.8083\n",
            "Epoch 13/100\n",
            "7200/7200 [==============================] - 0s 40us/step - loss: 0.4306 - accuracy: 0.8061 - val_loss: 0.4350 - val_accuracy: 0.8011\n",
            "Epoch 14/100\n",
            "7200/7200 [==============================] - 0s 39us/step - loss: 0.4293 - accuracy: 0.8065 - val_loss: 0.4346 - val_accuracy: 0.8028\n",
            "Epoch 15/100\n",
            "7200/7200 [==============================] - 0s 40us/step - loss: 0.4285 - accuracy: 0.8074 - val_loss: 0.4330 - val_accuracy: 0.8017\n",
            "Epoch 16/100\n",
            "7200/7200 [==============================] - 0s 43us/step - loss: 0.4279 - accuracy: 0.8062 - val_loss: 0.4324 - val_accuracy: 0.8089\n",
            "Epoch 17/100\n",
            "7200/7200 [==============================] - 0s 39us/step - loss: 0.4269 - accuracy: 0.8081 - val_loss: 0.4359 - val_accuracy: 0.8094\n",
            "Epoch 18/100\n",
            "7200/7200 [==============================] - 0s 38us/step - loss: 0.4261 - accuracy: 0.8106 - val_loss: 0.4319 - val_accuracy: 0.8111\n",
            "Epoch 19/100\n",
            "7200/7200 [==============================] - 0s 39us/step - loss: 0.4253 - accuracy: 0.8096 - val_loss: 0.4349 - val_accuracy: 0.8106\n",
            "Epoch 20/100\n",
            "7200/7200 [==============================] - 0s 42us/step - loss: 0.4250 - accuracy: 0.8121 - val_loss: 0.4303 - val_accuracy: 0.8133\n",
            "Epoch 21/100\n",
            "7200/7200 [==============================] - 0s 41us/step - loss: 0.4240 - accuracy: 0.8121 - val_loss: 0.4306 - val_accuracy: 0.8128\n",
            "Epoch 22/100\n",
            "7200/7200 [==============================] - 0s 44us/step - loss: 0.4233 - accuracy: 0.8133 - val_loss: 0.4297 - val_accuracy: 0.8117\n",
            "Epoch 23/100\n",
            "7200/7200 [==============================] - 0s 44us/step - loss: 0.4225 - accuracy: 0.8140 - val_loss: 0.4289 - val_accuracy: 0.8144\n",
            "Epoch 24/100\n",
            "7200/7200 [==============================] - 0s 43us/step - loss: 0.4219 - accuracy: 0.8129 - val_loss: 0.4291 - val_accuracy: 0.8122\n",
            "Epoch 25/100\n",
            "7200/7200 [==============================] - 0s 48us/step - loss: 0.4206 - accuracy: 0.8169 - val_loss: 0.4285 - val_accuracy: 0.8156\n",
            "Epoch 26/100\n",
            "7200/7200 [==============================] - 0s 49us/step - loss: 0.4199 - accuracy: 0.8169 - val_loss: 0.4278 - val_accuracy: 0.8156\n",
            "Epoch 27/100\n",
            "7200/7200 [==============================] - 0s 46us/step - loss: 0.4195 - accuracy: 0.8183 - val_loss: 0.4269 - val_accuracy: 0.8150\n",
            "Epoch 28/100\n",
            "7200/7200 [==============================] - 0s 47us/step - loss: 0.4182 - accuracy: 0.8207 - val_loss: 0.4267 - val_accuracy: 0.8128\n",
            "Epoch 29/100\n",
            "7200/7200 [==============================] - 0s 42us/step - loss: 0.4174 - accuracy: 0.8189 - val_loss: 0.4270 - val_accuracy: 0.8167\n",
            "Epoch 30/100\n",
            "7200/7200 [==============================] - 0s 41us/step - loss: 0.4165 - accuracy: 0.8208 - val_loss: 0.4250 - val_accuracy: 0.8167\n",
            "Epoch 31/100\n",
            "7200/7200 [==============================] - 0s 39us/step - loss: 0.4155 - accuracy: 0.8211 - val_loss: 0.4242 - val_accuracy: 0.8161\n",
            "Epoch 32/100\n",
            "7200/7200 [==============================] - 0s 42us/step - loss: 0.4148 - accuracy: 0.8214 - val_loss: 0.4247 - val_accuracy: 0.8183\n",
            "Epoch 33/100\n",
            "7200/7200 [==============================] - 0s 45us/step - loss: 0.4130 - accuracy: 0.8225 - val_loss: 0.4233 - val_accuracy: 0.8183\n",
            "Epoch 34/100\n",
            "7200/7200 [==============================] - 0s 47us/step - loss: 0.4118 - accuracy: 0.8232 - val_loss: 0.4233 - val_accuracy: 0.8189\n",
            "Epoch 35/100\n",
            "7200/7200 [==============================] - 0s 43us/step - loss: 0.4105 - accuracy: 0.8244 - val_loss: 0.4222 - val_accuracy: 0.8206\n",
            "Epoch 36/100\n",
            "7200/7200 [==============================] - 0s 41us/step - loss: 0.4094 - accuracy: 0.8240 - val_loss: 0.4199 - val_accuracy: 0.8206\n",
            "Epoch 37/100\n",
            "7200/7200 [==============================] - 0s 40us/step - loss: 0.4082 - accuracy: 0.8235 - val_loss: 0.4175 - val_accuracy: 0.8244\n",
            "Epoch 38/100\n",
            "7200/7200 [==============================] - 0s 40us/step - loss: 0.4064 - accuracy: 0.8244 - val_loss: 0.4172 - val_accuracy: 0.8239\n",
            "Epoch 39/100\n",
            "7200/7200 [==============================] - 0s 40us/step - loss: 0.4052 - accuracy: 0.8268 - val_loss: 0.4156 - val_accuracy: 0.8261\n",
            "Epoch 40/100\n",
            "7200/7200 [==============================] - 0s 40us/step - loss: 0.4039 - accuracy: 0.8285 - val_loss: 0.4224 - val_accuracy: 0.8217\n",
            "Epoch 41/100\n",
            "7200/7200 [==============================] - 0s 41us/step - loss: 0.4019 - accuracy: 0.8290 - val_loss: 0.4145 - val_accuracy: 0.8267\n",
            "Epoch 42/100\n",
            "7200/7200 [==============================] - 0s 44us/step - loss: 0.4006 - accuracy: 0.8339 - val_loss: 0.4126 - val_accuracy: 0.8250\n",
            "Epoch 43/100\n",
            "7200/7200 [==============================] - 0s 40us/step - loss: 0.3991 - accuracy: 0.8335 - val_loss: 0.4123 - val_accuracy: 0.8256\n",
            "Epoch 44/100\n",
            "7200/7200 [==============================] - 0s 47us/step - loss: 0.3976 - accuracy: 0.8328 - val_loss: 0.4096 - val_accuracy: 0.8283\n",
            "Epoch 45/100\n",
            "7200/7200 [==============================] - 0s 44us/step - loss: 0.3965 - accuracy: 0.8310 - val_loss: 0.4095 - val_accuracy: 0.8300\n",
            "Epoch 46/100\n",
            "7200/7200 [==============================] - 0s 45us/step - loss: 0.3950 - accuracy: 0.8331 - val_loss: 0.4078 - val_accuracy: 0.8306\n",
            "Epoch 47/100\n",
            "7200/7200 [==============================] - 0s 48us/step - loss: 0.3940 - accuracy: 0.8338 - val_loss: 0.4063 - val_accuracy: 0.8322\n",
            "Epoch 48/100\n",
            "7200/7200 [==============================] - 0s 47us/step - loss: 0.3931 - accuracy: 0.8339 - val_loss: 0.4044 - val_accuracy: 0.8317\n",
            "Epoch 49/100\n",
            "7200/7200 [==============================] - 0s 47us/step - loss: 0.3919 - accuracy: 0.8360 - val_loss: 0.4062 - val_accuracy: 0.8289\n",
            "Epoch 50/100\n",
            "7200/7200 [==============================] - 0s 47us/step - loss: 0.3907 - accuracy: 0.8350 - val_loss: 0.4050 - val_accuracy: 0.8244\n",
            "Epoch 51/100\n",
            "7200/7200 [==============================] - 0s 47us/step - loss: 0.3887 - accuracy: 0.8364 - val_loss: 0.4053 - val_accuracy: 0.8278\n",
            "Epoch 52/100\n",
            "7200/7200 [==============================] - 0s 43us/step - loss: 0.3883 - accuracy: 0.8356 - val_loss: 0.4019 - val_accuracy: 0.8294\n",
            "Epoch 53/100\n",
            "7200/7200 [==============================] - 0s 40us/step - loss: 0.3883 - accuracy: 0.8357 - val_loss: 0.4023 - val_accuracy: 0.8294\n",
            "Epoch 54/100\n",
            "7200/7200 [==============================] - 0s 41us/step - loss: 0.3872 - accuracy: 0.8375 - val_loss: 0.4102 - val_accuracy: 0.8222\n",
            "Epoch 55/100\n",
            "7200/7200 [==============================] - 0s 41us/step - loss: 0.3859 - accuracy: 0.8381 - val_loss: 0.4040 - val_accuracy: 0.8250\n",
            "Epoch 56/100\n",
            "7200/7200 [==============================] - 0s 41us/step - loss: 0.3859 - accuracy: 0.8365 - val_loss: 0.4022 - val_accuracy: 0.8267\n",
            "Epoch 57/100\n",
            "7200/7200 [==============================] - 0s 42us/step - loss: 0.3839 - accuracy: 0.8383 - val_loss: 0.3987 - val_accuracy: 0.8278\n",
            "Epoch 58/100\n",
            "7200/7200 [==============================] - 0s 44us/step - loss: 0.3848 - accuracy: 0.8381 - val_loss: 0.3984 - val_accuracy: 0.8283\n",
            "Epoch 59/100\n",
            "7200/7200 [==============================] - 0s 44us/step - loss: 0.3833 - accuracy: 0.8385 - val_loss: 0.3992 - val_accuracy: 0.8256\n",
            "Epoch 60/100\n",
            "7200/7200 [==============================] - 0s 40us/step - loss: 0.3829 - accuracy: 0.8371 - val_loss: 0.3982 - val_accuracy: 0.8294\n",
            "Epoch 61/100\n",
            "7200/7200 [==============================] - 0s 42us/step - loss: 0.3824 - accuracy: 0.8390 - val_loss: 0.3983 - val_accuracy: 0.8289\n",
            "Epoch 62/100\n",
            "7200/7200 [==============================] - 0s 47us/step - loss: 0.3811 - accuracy: 0.8361 - val_loss: 0.3985 - val_accuracy: 0.8261\n",
            "Epoch 63/100\n",
            "7200/7200 [==============================] - 0s 41us/step - loss: 0.3807 - accuracy: 0.8388 - val_loss: 0.3962 - val_accuracy: 0.8267\n",
            "Epoch 64/100\n",
            "7200/7200 [==============================] - 0s 41us/step - loss: 0.3800 - accuracy: 0.8399 - val_loss: 0.3957 - val_accuracy: 0.8278\n",
            "Epoch 65/100\n",
            "7200/7200 [==============================] - 0s 43us/step - loss: 0.3776 - accuracy: 0.8389 - val_loss: 0.3942 - val_accuracy: 0.8306\n",
            "Epoch 66/100\n",
            "7200/7200 [==============================] - 0s 41us/step - loss: 0.3785 - accuracy: 0.8403 - val_loss: 0.3964 - val_accuracy: 0.8300\n",
            "Epoch 67/100\n",
            "7200/7200 [==============================] - 0s 40us/step - loss: 0.3780 - accuracy: 0.8399 - val_loss: 0.3944 - val_accuracy: 0.8294\n",
            "Epoch 68/100\n",
            "7200/7200 [==============================] - 0s 42us/step - loss: 0.3778 - accuracy: 0.8414 - val_loss: 0.3965 - val_accuracy: 0.8311\n",
            "Epoch 69/100\n",
            "7200/7200 [==============================] - 0s 42us/step - loss: 0.3765 - accuracy: 0.8404 - val_loss: 0.3964 - val_accuracy: 0.8300\n",
            "Epoch 70/100\n",
            "7200/7200 [==============================] - 0s 46us/step - loss: 0.3764 - accuracy: 0.8408 - val_loss: 0.3961 - val_accuracy: 0.8261\n",
            "Epoch 71/100\n",
            "7200/7200 [==============================] - 0s 43us/step - loss: 0.3753 - accuracy: 0.8394 - val_loss: 0.3941 - val_accuracy: 0.8344\n",
            "Epoch 72/100\n",
            "7200/7200 [==============================] - 0s 41us/step - loss: 0.3735 - accuracy: 0.8429 - val_loss: 0.3990 - val_accuracy: 0.8283\n",
            "Epoch 73/100\n",
            "7200/7200 [==============================] - 0s 40us/step - loss: 0.3731 - accuracy: 0.8411 - val_loss: 0.4103 - val_accuracy: 0.8267\n",
            "Epoch 74/100\n",
            "7200/7200 [==============================] - 0s 40us/step - loss: 0.3736 - accuracy: 0.8419 - val_loss: 0.3914 - val_accuracy: 0.8333\n",
            "Epoch 75/100\n",
            "7200/7200 [==============================] - 0s 42us/step - loss: 0.3728 - accuracy: 0.8422 - val_loss: 0.3990 - val_accuracy: 0.8300\n",
            "Epoch 76/100\n",
            "7200/7200 [==============================] - 0s 48us/step - loss: 0.3715 - accuracy: 0.8439 - val_loss: 0.3941 - val_accuracy: 0.8339\n",
            "Epoch 77/100\n",
            "7200/7200 [==============================] - 0s 44us/step - loss: 0.3709 - accuracy: 0.8446 - val_loss: 0.3968 - val_accuracy: 0.8306\n",
            "Epoch 78/100\n",
            "7200/7200 [==============================] - 0s 41us/step - loss: 0.3705 - accuracy: 0.8454 - val_loss: 0.3986 - val_accuracy: 0.8317\n",
            "Epoch 79/100\n",
            "7200/7200 [==============================] - 0s 41us/step - loss: 0.3694 - accuracy: 0.8460 - val_loss: 0.3873 - val_accuracy: 0.8339\n",
            "Epoch 80/100\n",
            "7200/7200 [==============================] - 0s 40us/step - loss: 0.3695 - accuracy: 0.8424 - val_loss: 0.3902 - val_accuracy: 0.8317\n",
            "Epoch 81/100\n",
            "7200/7200 [==============================] - 0s 43us/step - loss: 0.3684 - accuracy: 0.8446 - val_loss: 0.3879 - val_accuracy: 0.8350\n",
            "Epoch 82/100\n",
            "7200/7200 [==============================] - 0s 46us/step - loss: 0.3681 - accuracy: 0.8468 - val_loss: 0.3886 - val_accuracy: 0.8350\n",
            "Epoch 83/100\n",
            "7200/7200 [==============================] - 0s 46us/step - loss: 0.3675 - accuracy: 0.8476 - val_loss: 0.3864 - val_accuracy: 0.8339\n",
            "Epoch 84/100\n",
            "7200/7200 [==============================] - 0s 44us/step - loss: 0.3664 - accuracy: 0.8469 - val_loss: 0.3872 - val_accuracy: 0.8367\n",
            "Epoch 85/100\n",
            "7200/7200 [==============================] - 0s 41us/step - loss: 0.3664 - accuracy: 0.8475 - val_loss: 0.3893 - val_accuracy: 0.8306\n",
            "Epoch 86/100\n",
            "7200/7200 [==============================] - 0s 42us/step - loss: 0.3646 - accuracy: 0.8468 - val_loss: 0.3819 - val_accuracy: 0.8383\n",
            "Epoch 87/100\n",
            "7200/7200 [==============================] - 0s 41us/step - loss: 0.3643 - accuracy: 0.8476 - val_loss: 0.3890 - val_accuracy: 0.8361\n",
            "Epoch 88/100\n",
            "7200/7200 [==============================] - 0s 41us/step - loss: 0.3626 - accuracy: 0.8493 - val_loss: 0.3800 - val_accuracy: 0.8367\n",
            "Epoch 89/100\n",
            "7200/7200 [==============================] - 0s 41us/step - loss: 0.3614 - accuracy: 0.8487 - val_loss: 0.3832 - val_accuracy: 0.8361\n",
            "Epoch 90/100\n",
            "7200/7200 [==============================] - 0s 42us/step - loss: 0.3600 - accuracy: 0.8504 - val_loss: 0.3782 - val_accuracy: 0.8378\n",
            "Epoch 91/100\n",
            "7200/7200 [==============================] - 0s 48us/step - loss: 0.3589 - accuracy: 0.8482 - val_loss: 0.3788 - val_accuracy: 0.8356\n",
            "Epoch 92/100\n",
            "7200/7200 [==============================] - 0s 43us/step - loss: 0.3568 - accuracy: 0.8550 - val_loss: 0.3753 - val_accuracy: 0.8367\n",
            "Epoch 93/100\n",
            "7200/7200 [==============================] - 0s 41us/step - loss: 0.3565 - accuracy: 0.8526 - val_loss: 0.3714 - val_accuracy: 0.8411\n",
            "Epoch 94/100\n",
            "7200/7200 [==============================] - 0s 43us/step - loss: 0.3541 - accuracy: 0.8553 - val_loss: 0.3702 - val_accuracy: 0.8406\n",
            "Epoch 95/100\n",
            "7200/7200 [==============================] - 0s 41us/step - loss: 0.3526 - accuracy: 0.8556 - val_loss: 0.3688 - val_accuracy: 0.8411\n",
            "Epoch 96/100\n",
            "7200/7200 [==============================] - 0s 41us/step - loss: 0.3512 - accuracy: 0.8550 - val_loss: 0.3675 - val_accuracy: 0.8411\n",
            "Epoch 97/100\n",
            "7200/7200 [==============================] - 0s 41us/step - loss: 0.3499 - accuracy: 0.8553 - val_loss: 0.3660 - val_accuracy: 0.8394\n",
            "Epoch 98/100\n",
            "7200/7200 [==============================] - 0s 41us/step - loss: 0.3490 - accuracy: 0.8583 - val_loss: 0.3675 - val_accuracy: 0.8400\n",
            "Epoch 99/100\n",
            "7200/7200 [==============================] - 0s 40us/step - loss: 0.3476 - accuracy: 0.8582 - val_loss: 0.3661 - val_accuracy: 0.8428\n",
            "Epoch 100/100\n",
            "7200/7200 [==============================] - 0s 40us/step - loss: 0.3458 - accuracy: 0.8564 - val_loss: 0.3648 - val_accuracy: 0.8422\n"
          ],
          "name": "stdout"
        },
        {
          "output_type": "execute_result",
          "data": {
            "text/plain": [
              "<keras.callbacks.callbacks.History at 0x7f2f186bf390>"
            ]
          },
          "metadata": {
            "tags": []
          },
          "execution_count": 22
        }
      ]
    },
    {
      "cell_type": "code",
      "metadata": {
        "id": "tT9K79YrBqb6"
      },
      "source": [
        "y_prec = model.predict(X_test)"
      ],
      "execution_count": null,
      "outputs": []
    },
    {
      "cell_type": "code",
      "metadata": {
        "id": "S2h0Gy59B17C"
      },
      "source": [
        "model.save_weights('/content/drive/My Drive/Data sets/model.h5')"
      ],
      "execution_count": null,
      "outputs": []
    },
    {
      "cell_type": "code",
      "metadata": {
        "id": "wPCWdkU7CDlv"
      },
      "source": [
        "dummy_X = X_test.take([20])\n",
        "dummy_y = y_test.take([20])"
      ],
      "execution_count": null,
      "outputs": []
    },
    {
      "cell_type": "code",
      "metadata": {
        "id": "nhOeMhalOYbJ",
        "colab": {
          "base_uri": "https://localhost:8080/",
          "height": 100
        },
        "outputId": "6707d20a-4e2f-4d50-90d4-730be8bed74b"
      },
      "source": [
        "dummy_X"
      ],
      "execution_count": null,
      "outputs": [
        {
          "output_type": "execute_result",
          "data": {
            "text/html": [
              "<div>\n",
              "<style scoped>\n",
              "    .dataframe tbody tr th:only-of-type {\n",
              "        vertical-align: middle;\n",
              "    }\n",
              "\n",
              "    .dataframe tbody tr th {\n",
              "        vertical-align: top;\n",
              "    }\n",
              "\n",
              "    .dataframe thead th {\n",
              "        text-align: right;\n",
              "    }\n",
              "</style>\n",
              "<table border=\"1\" class=\"dataframe\">\n",
              "  <thead>\n",
              "    <tr style=\"text-align: right;\">\n",
              "      <th></th>\n",
              "      <th>CreditScore</th>\n",
              "      <th>Age</th>\n",
              "      <th>Tenure</th>\n",
              "      <th>Balance</th>\n",
              "      <th>NumOfProducts</th>\n",
              "      <th>HasCrCard</th>\n",
              "      <th>IsActiveMember</th>\n",
              "      <th>EstimatedSalary</th>\n",
              "      <th>Geography_France</th>\n",
              "      <th>Geography_Germany</th>\n",
              "      <th>Geography_Spain</th>\n",
              "      <th>Gender_Female</th>\n",
              "      <th>Gender_Male</th>\n",
              "    </tr>\n",
              "  </thead>\n",
              "  <tbody>\n",
              "    <tr>\n",
              "      <th>2401</th>\n",
              "      <td>-0.212407</td>\n",
              "      <td>-0.850726</td>\n",
              "      <td>3</td>\n",
              "      <td>-1.225848</td>\n",
              "      <td>2</td>\n",
              "      <td>0</td>\n",
              "      <td>1</td>\n",
              "      <td>-1.558116</td>\n",
              "      <td>0</td>\n",
              "      <td>0</td>\n",
              "      <td>1</td>\n",
              "      <td>0</td>\n",
              "      <td>1</td>\n",
              "    </tr>\n",
              "  </tbody>\n",
              "</table>\n",
              "</div>"
            ],
            "text/plain": [
              "      CreditScore       Age  ...  Gender_Female  Gender_Male\n",
              "2401    -0.212407 -0.850726  ...              0            1\n",
              "\n",
              "[1 rows x 13 columns]"
            ]
          },
          "metadata": {
            "tags": []
          },
          "execution_count": 28
        }
      ]
    },
    {
      "cell_type": "code",
      "metadata": {
        "id": "MNEaLtVVOhk_",
        "colab": {
          "base_uri": "https://localhost:8080/",
          "height": 51
        },
        "outputId": "71051b3d-8541-4c2c-b964-5e1a1152edb7"
      },
      "source": [
        "dummy_y"
      ],
      "execution_count": null,
      "outputs": [
        {
          "output_type": "execute_result",
          "data": {
            "text/plain": [
              "2401    0\n",
              "Name: Exited, dtype: int64"
            ]
          },
          "metadata": {
            "tags": []
          },
          "execution_count": 29
        }
      ]
    },
    {
      "cell_type": "code",
      "metadata": {
        "id": "ZKYbSqW4OkMD"
      },
      "source": [
        "dummy_prec = model.predict(dummy_X)"
      ],
      "execution_count": null,
      "outputs": []
    },
    {
      "cell_type": "code",
      "metadata": {
        "id": "BfA2WMyLOuOt",
        "colab": {
          "base_uri": "https://localhost:8080/",
          "height": 34
        },
        "outputId": "e817f47f-2b00-4a03-90d9-4703daa94a8d"
      },
      "source": [
        "dummy_prec"
      ],
      "execution_count": null,
      "outputs": [
        {
          "output_type": "execute_result",
          "data": {
            "text/plain": [
              "array([[0.00643432]], dtype=float32)"
            ]
          },
          "metadata": {
            "tags": []
          },
          "execution_count": 31
        }
      ]
    },
    {
      "cell_type": "code",
      "metadata": {
        "id": "ykzN1rbrOwL5"
      },
      "source": [
        ""
      ],
      "execution_count": null,
      "outputs": []
    }
  ]
}